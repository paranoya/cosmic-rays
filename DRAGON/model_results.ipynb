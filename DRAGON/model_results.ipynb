{
 "cells": [
  {
   "cell_type": "markdown",
   "id": "64e3a6db-b941-40a3-8688-920c867d73ca",
   "metadata": {},
   "source": [
    "# Explore DRAGON results"
   ]
  },
  {
   "cell_type": "code",
   "execution_count": 162,
   "id": "486dd1ad-8ef2-4c06-8ef0-f13aacb080d2",
   "metadata": {},
   "outputs": [],
   "source": [
    "%matplotlib ipympl\n",
    "from matplotlib import pyplot as plt\n",
    "from matplotlib import colors\n",
    "import numpy as np\n",
    "from astropy.io import fits\n",
    "from astropy.table import Table\n",
    "import os"
   ]
  },
  {
   "cell_type": "markdown",
   "id": "8f8488fe-27cd-45c5-b648-bf8923156cd0",
   "metadata": {},
   "source": [
    "# 1. Choose a model to explore"
   ]
  },
  {
   "cell_type": "code",
   "execution_count": 2,
   "id": "bec93285-3dba-444b-9020-5e49c9538673",
   "metadata": {},
   "outputs": [],
   "source": [
    "model = 'run_2D_DM'"
   ]
  },
  {
   "cell_type": "markdown",
   "id": "442385e6-1d89-4ea9-92ef-d479c9b5ee7b",
   "metadata": {},
   "source": [
    "# 2. Injection spectra"
   ]
  },
  {
   "cell_type": "code",
   "execution_count": 152,
   "id": "097a877b-1827-407e-82d5-ebf2c62844cb",
   "metadata": {},
   "outputs": [],
   "source": [
    "hdulist = fits.open(os.path.join('output', f'{model}.fits.gz'))\n",
    "#hdulist.info()"
   ]
  },
  {
   "cell_type": "code",
   "execution_count": 153,
   "id": "ba4134e4-2598-4ee5-b6c9-861af045652f",
   "metadata": {},
   "outputs": [
    {
     "data": {
      "text/plain": [
       "SIMPLE  =                    T / file does conform to FITS standard             \n",
       "BITPIX  =                  -32 / number of bits per data pixel                  \n",
       "NAXIS   =                    3 / number of data axes                            \n",
       "NAXIS1  =                   56 / length of data axis 1                          \n",
       "NAXIS2  =                   41 / length of data axis 2                          \n",
       "NAXIS3  =                   81 / length of data axis 3                          \n",
       "EXTEND  =                    T / FITS dataset may contain extensions            \n",
       "COMMENT   FITS (Flexible Image Transport System) format is defined in 'Astronomy\n",
       "COMMENT   and Astrophysics', volume 376, page 359; bibcode: 2001A&A...376..359H \n",
       "RMIN    =                   0.                                                  \n",
       "RMAX    =                  12.                                                  \n",
       "ZMIN    =                  -4.                                                  \n",
       "ZMAX    =                   4.                                                  \n",
       "ROBS    =                  8.3                                                  \n",
       "ZOBS    =                   0.                                                  \n",
       "IRSUN   =                   27                                                  \n",
       "IZSUN   =                   40                                                  \n",
       "U       =                0.005                                                  \n",
       "RB      =                  10.                                                  \n",
       "ZT      =                   4.                                                  \n",
       "ZR      =                   2.                                                  \n",
       "BH      =                  6.1                                                  \n",
       "D0      =              2.7E+28                                                  \n",
       "DREFRIG =                   4.                                                  \n",
       "IND_DIFF=                  0.6                                                  \n",
       "HE_AB   =                 0.11                                                  \n",
       "SPREFRIG=                   0.                                                  \n",
       "SPRIGNOR=                 100.                                                  \n",
       "SPECNORM=                 0.05                                                  \n",
       "EKMAX   =                1000.                                                  \n",
       "EKMIN   =                  0.1                                                  \n",
       "EKIN_FAC=                  1.2                                                  \n",
       "GASMOD  =                    2                                                  \n",
       "SNRMOD  =                    3                                                  \n",
       "DIME    =                   56                                                  \n",
       "DIMR    =                   41                                                  \n",
       "DIMZ    =                   81                                                  \n",
       "VALFVEN =                   0.                                                  \n",
       "V0_CONV =                   0.                                                  \n",
       "HIERARCH DVDZ_CONV =        0.                                                  \n",
       "MX      =                1000.                                                  \n",
       "TAUDEC  =                  -1.                                                  \n",
       "SIGMAV  =              2.0E-23                                                  \n",
       "DMMODE  =                   -1                                                  \n",
       "DMPROF  =                    1                                                  "
      ]
     },
     "execution_count": 153,
     "metadata": {},
     "output_type": "execute_result"
    }
   ],
   "source": [
    "h = hdulist[0].header\n",
    "h"
   ]
  },
  {
   "cell_type": "code",
   "execution_count": 183,
   "id": "26736308-c7ef-4e11-a531-255d26d7f539",
   "metadata": {},
   "outputs": [
    {
     "data": {
      "text/plain": [
       "(array([1.00000000e-01, 1.18229887e-01, 1.39783061e-01, 1.65265354e-01,\n",
       "        1.95393040e-01, 2.31012970e-01, 2.73126372e-01, 3.22917000e-01,\n",
       "        3.81784403e-01, 4.51383266e-01, 5.33669923e-01, 6.30957344e-01,\n",
       "        7.45980152e-01, 8.81971488e-01, 1.04275389e+00, 1.23284674e+00,\n",
       "        1.45759330e+00, 1.72331091e+00, 2.03746853e+00, 2.40889673e+00,\n",
       "        2.84803587e+00, 3.36722958e+00, 3.98107171e+00, 4.70681656e+00,\n",
       "        5.56486388e+00, 6.57933225e+00, 7.77873705e+00, 9.19679199e+00,\n",
       "        1.08733567e+01, 1.28555573e+01, 1.51991108e+01, 1.79698915e+01,\n",
       "        2.12457823e+01, 2.51188643e+01, 2.96980048e+01, 3.51119173e+01,\n",
       "        4.15127800e+01, 4.90805127e+01, 5.80278345e+01, 6.86062429e+01,\n",
       "        8.11130831e+01, 9.58999061e+01, 1.13382350e+02, 1.34051824e+02,\n",
       "        1.58489319e+02, 1.87381742e+02, 2.21541221e+02, 2.61927934e+02,\n",
       "        3.09677100e+02, 3.66130884e+02, 4.32876128e+02, 5.11788955e+02,\n",
       "        6.05087501e+02, 7.15394265e+02, 8.45809828e+02, 1.00000000e+03]),\n",
       " array([ 0. ,  0.3,  0.6,  0.9,  1.2,  1.5,  1.8,  2.1,  2.4,  2.7,  3. ,\n",
       "         3.3,  3.6,  3.9,  4.2,  4.5,  4.8,  5.1,  5.4,  5.7,  6. ,  6.3,\n",
       "         6.6,  6.9,  7.2,  7.5,  7.8,  8.1,  8.4,  8.7,  9. ,  9.3,  9.6,\n",
       "         9.9, 10.2, 10.5, 10.8, 11.1, 11.4, 11.7, 12. ]),\n",
       " array([-4. , -3.9, -3.8, -3.7, -3.6, -3.5, -3.4, -3.3, -3.2, -3.1, -3. ,\n",
       "        -2.9, -2.8, -2.7, -2.6, -2.5, -2.4, -2.3, -2.2, -2.1, -2. , -1.9,\n",
       "        -1.8, -1.7, -1.6, -1.5, -1.4, -1.3, -1.2, -1.1, -1. , -0.9, -0.8,\n",
       "        -0.7, -0.6, -0.5, -0.4, -0.3, -0.2, -0.1,  0. ,  0.1,  0.2,  0.3,\n",
       "         0.4,  0.5,  0.6,  0.7,  0.8,  0.9,  1. ,  1.1,  1.2,  1.3,  1.4,\n",
       "         1.5,  1.6,  1.7,  1.8,  1.9,  2. ,  2.1,  2.2,  2.3,  2.4,  2.5,\n",
       "         2.6,  2.7,  2.8,  2.9,  3. ,  3.1,  3.2,  3.3,  3.4,  3.5,  3.6,\n",
       "         3.7,  3.8,  3.9,  4. ]))"
      ]
     },
     "execution_count": 183,
     "metadata": {},
     "output_type": "execute_result"
    }
   ],
   "source": [
    "grid_E = np.logspace(np.log10(h['EKMIN']), np.log10(h['EKMAX']), h['NAXIS1'])\n",
    "grid_R = np.linspace(h['RMIN'], h['RMAX'], h['NAXIS2'])\n",
    "grid_z = np.linspace(h['ZMIN'], h['ZMAX'], h['NAXIS3'])\n",
    "grid_E, grid_R, grid_z"
   ]
  },
  {
   "cell_type": "code",
   "execution_count": 159,
   "id": "098befde-f5d7-4aae-8e6b-2be592f1c622",
   "metadata": {},
   "outputs": [],
   "source": [
    "hdu_table = Table(names=['Z', 'A', 'SEC', 'DM', 'EXTRA'], dtype=[int, int, int, int, int])\n",
    "for hdu in hdulist[1:]:\n",
    "    hdu_table.add_row([hdu.header['Z_'], hdu.header['A'], hdu.header['SEC'], hdu.header['DM'], hdu.header['EXTRA']])\n"
   ]
  },
  {
   "cell_type": "code",
   "execution_count": 160,
   "id": "62b22da1-0e3e-4bf4-9510-4a7bbc1c110d",
   "metadata": {},
   "outputs": [],
   "source": [
    "particle_names = {\n",
    "    'Z=-1, A=0': r'e$^-$',\n",
    "    'Z=1, A=0': r'e$^+$',\n",
    "    'Z=-1, A=1': r'$\\bar p$',\n",
    "    'Z=1, A=1': r'p',\n",
    "}\n",
    "\n",
    "spectra = {}\n",
    "for i, hdu in enumerate(hdulist[1:]):\n",
    "    if hdu.header['SEC']:\n",
    "        origin = \"secondary\"\n",
    "    elif hdu.header['DM']:\n",
    "        origin = \"DM\"\n",
    "    elif hdu.header['EXTRA']:\n",
    "        origin = \"extra\"\n",
    "    else:\n",
    "        origin = \"primary\"\n",
    "    particle = f\"Z={hdu.header['Z_']}, A={hdu.header['A']}\"\n",
    "    spectra[f'{origin} {particle_names.get(particle, particle)}'] = hdu.data\n"
   ]
  },
  {
   "cell_type": "code",
   "execution_count": 192,
   "id": "0e3001f8-747c-43f2-a558-fcc2261f9f16",
   "metadata": {},
   "outputs": [
    {
     "name": "stdout",
     "output_type": "stream",
     "text": [
      "55\n",
      "0.0 1.5452802371029861e-09\n"
     ]
    },
    {
     "data": {
      "application/vnd.jupyter.widget-view+json": {
       "model_id": "8f99830d814e4272baf5d85f6c8d6026",
       "version_major": 2,
       "version_minor": 0
      },
      "image/png": "[encoded data removed]",
      "text/html": [
       "\n",
       "            <div style=\"display: inline-block;\">\n",
       "                <div class=\"jupyter-widgets widget-label\" style=\"text-align: center;\">\n",
       "                    map\n",
       "                </div>\n",
       "                <img src='data:image/png;base64,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' width=600.0/>\n",
       "            </div>\n",
       "        "
      ],
      "text/plain": [
       "Canvas(toolbar=Toolbar(toolitems=[('Home', 'Reset original view', 'home', 'home'), ('Back', 'Back to previous …"
      ]
     },
     "metadata": {},
     "output_type": "display_data"
    }
   ],
   "source": [
    "def plot_map(species, E, ax):\n",
    "    energy = np.searchsorted(grid_E, E)\n",
    "    print(energy)\n",
    "    data = spectra[species][:, :, energy]\n",
    "    p1, p99 = np.nanpercentile(data, [1, 99])\n",
    "    print(p1, p99)\n",
    "    ax.imshow(data,\n",
    "              #extent=(grid_R[0], grid_R[-1], grid_z[0], grid_z[-1]),\n",
    "              origin='lower', interpolation='nearest',\n",
    "              cmap='inferno',\n",
    "              norm=colors.LogNorm(vmin=max(p1, 1e-4*p99), vmax=p99),\n",
    "             )\n",
    "\n",
    "\n",
    "fig_name='map'\n",
    "plt.close(fig_name)\n",
    "fig = plt.figure(fig_name, figsize=(6, 6))\n",
    "axes = fig.subplots(nrows=1, ncols=1, squeeze=False,\n",
    "                    sharex='col', sharey=True,\n",
    "                    gridspec_kw={'hspace': 0, 'wspace': 0}\n",
    "                   )\n",
    "\n",
    "plot_map(r'primary e$^-$', 1000, axes[0, 0])"
   ]
  },
  {
   "cell_type": "code",
   "execution_count": 177,
   "id": "eb2c692b-eb40-41e5-a299-a1de36c0e739",
   "metadata": {},
   "outputs": [],
   "source": [
    "data = spectra['primary e$^-$']"
   ]
  },
  {
   "cell_type": "code",
   "execution_count": 193,
   "id": "2e68ebcf-5f18-44b4-94ec-7730b8bf1632",
   "metadata": {},
   "outputs": [
    {
     "data": {
      "text/plain": [
       "(81, 41)"
      ]
     },
     "execution_count": 193,
     "metadata": {},
     "output_type": "execute_result"
    }
   ],
   "source": [
    "data[:, :, 55].shape"
   ]
  },
  {
   "cell_type": "code",
   "execution_count": null,
   "id": "54c499ea-9a6e-4da7-87b9-6fc2da209820",
   "metadata": {},
   "outputs": [],
   "source": []
  }
 ],
 "metadata": {
  "kernelspec": {
   "display_name": "Python 3 (ipykernel)",
   "language": "python",
   "name": "python3"
  },
  "language_info": {
   "codemirror_mode": {
    "name": "ipython",
    "version": 3
   },
   "file_extension": ".py",
   "mimetype": "text/x-python",
   "name": "python",
   "nbconvert_exporter": "python",
   "pygments_lexer": "ipython3",
   "version": "3.8.10"
  }
 },
 "nbformat": 4,
 "nbformat_minor": 5
}
