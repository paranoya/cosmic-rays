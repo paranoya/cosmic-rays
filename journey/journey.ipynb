{
 "cells": [
  {
   "cell_type": "markdown",
   "id": "da950f5e-d862-4969-900b-c2f1b4f9b6ac",
   "metadata": {},
   "source": [
    "# The journey of electrons and positrons from the neutron star to the interstellar medium"
   ]
  },
  {
   "cell_type": "markdown",
   "id": "4a553bb0-1016-4784-8955-8ee38e3577a6",
   "metadata": {},
   "source": [
    "# 1. Initialisation"
   ]
  },
  {
   "cell_type": "code",
   "execution_count": 1,
   "id": "b4f7251f-a14f-4d90-b7b0-7db8b5ddd3a7",
   "metadata": {},
   "outputs": [],
   "source": [
    "import numpy as np\n",
    "from matplotlib import pyplot as plt\n",
    "from astropy import units as u\n",
    "from astropy import constants as c\n",
    "from astropy.units import Quantity"
   ]
  },
  {
   "cell_type": "markdown",
   "id": "7639605f-0862-475e-9f5e-e32a18867024",
   "metadata": {},
   "source": [
    "## Model parameters"
   ]
  },
  {
   "cell_type": "markdown",
   "id": "a3e07c4e-2576-48f5-bbd6-49df824fa48e",
   "metadata": {},
   "source": [
    "Neutron star"
   ]
  },
  {
   "cell_type": "code",
   "execution_count": 2,
   "id": "42791439-e710-493c-a1fb-ccbd3f401e5b",
   "metadata": {},
   "outputs": [],
   "source": [
    "r_ns = 10 * u.km  # radius of the surface\n",
    "B_ns_Gauss = 1e16  # magnetic field at the surface, in G\n",
    "alpha_B = -3  # logarithmic slope of the radial dependence\n",
    "parallel_electric_field = 1  # ratio beteween the (parallel) electric and magnetic fields"
   ]
  },
  {
   "cell_type": "markdown",
   "id": "62ae5e9c-7c87-4087-bd67-da0faa9928a3",
   "metadata": {},
   "source": [
    "Default initial conditions of the particle trajectories"
   ]
  },
  {
   "cell_type": "code",
   "execution_count": 3,
   "id": "3ed5ea80-e70b-461b-b7d3-8a0e3ce530ff",
   "metadata": {},
   "outputs": [],
   "source": [
    "r_initial = r_ns  # distance from the neutron star\n",
    "alpha_initial = np.pi / 2  # pitch angle\n",
    "lorentz_initial = 1e3  # lorentz factor"
   ]
  },
  {
   "cell_type": "markdown",
   "id": "e2044835-68cd-497c-b36f-594c672a0925",
   "metadata": {},
   "source": [
    "## Electromagnetic structure"
   ]
  },
  {
   "cell_type": "markdown",
   "id": "bf25727e-8c6d-40c6-ae78-78823d90d0eb",
   "metadata": {},
   "source": [
    "As a function of the distance $x$ along the field lines"
   ]
  },
  {
   "cell_type": "code",
   "execution_count": 4,
   "id": "8098d20d-db57-4305-8cb4-5387919e2fe4",
   "metadata": {},
   "outputs": [],
   "source": [
    "def radius(x):\n",
    "    \"\"\"Radial distance $r$ from the neutron star\"\"\"\n",
    "    return r_initial + x\n",
    "\n",
    "def curvature_radius(x):\n",
    "    \"\"\"Curvature radius of the magnetic field\"\"\"\n",
    "    return radius(x)\n",
    "\n",
    "def B_Gauss(x):\n",
    "    \"\"\"Intensity of the magnetic field, in Gauss\"\"\"\n",
    "    return B_ns_Gauss * np.power(radius(x) / r_ns, alpha_B)\n",
    "\n",
    "def electric_field(x):\n",
    "    \"\"\"Intensity of the parallel component of the electric field\"\"\"\n",
    "    return parallel_electric_field * B_Gauss(x) * u.Gauss * c.c\n",
    "\n",
    "def accelerating_power(x):\n",
    "    \"\"\"Energy increase per unit time due to the electric field\"\"\"\n",
    "    return c.e.si * electric_field(x) * c.c\n"
   ]
  },
  {
   "cell_type": "markdown",
   "id": "c6a8357e-d83d-4624-be97-9b1a9a411542",
   "metadata": {},
   "source": [
    "## Radiative losses"
   ]
  },
  {
   "cell_type": "markdown",
   "id": "5110403f-f40e-47c3-ac36-47ee1073a8fa",
   "metadata": {},
   "source": [
    "Uncertainty parameters\n",
    "\n",
    "$$\n",
    "\\beta(r) \\equiv \\frac{ B(r) }{ B_*\\ (r/r_*)^{-3} }\n",
    "$$\n",
    "\n",
    "$$\n",
    "\\epsilon(r) \\equiv \\frac{ E_{||}(r) }{ c\\ B(r) }\n",
    "$$\n",
    "\n",
    "$$\n",
    "\\rho(r) \\equiv \\frac{ r_c(r) }{ r }\n",
    "$$"
   ]
  },
  {
   "cell_type": "markdown",
   "id": "7d1e0f68-e83b-4a03-a99e-6f57e74e229f",
   "metadata": {},
   "source": [
    "Equilibrium:\n",
    "$$\n",
    "e\\ E_{||}(r)\n",
    "\\approx \\frac{ P_{\\rm sc}(r)\\ \\cos\\alpha(r) }{ v(r) }\n",
    "\\approx \\frac{ P_{\\rm curv}(r) }{ c }\n",
    "= \\frac{2}{3} \\frac{e^2\\ \\Gamma^4(r) }{ r_c^2(r) }\n",
    "$$"
   ]
  },
  {
   "cell_type": "markdown",
   "id": "8cc8a857-462a-4fb2-bda3-e89d69c975ca",
   "metadata": {},
   "source": [
    "Combined:\n",
    "$$\n",
    "\\epsilon(r)\\ c\\ B(r)\n",
    "\\approx \\frac{2}{3} \\frac{e\\ \\Gamma^4(r) }{ \\rho^2(r) r^2 }\n",
    "$$\n",
    "$$\n",
    "\\Gamma^4(r)\n",
    "\\approx \\epsilon(r)\\ \\rho^2(r)\\ \\frac{3}{2} \\frac{ c\\ B(r)\\ r^2 }{ e }\n",
    "= \\epsilon(r)\\ \\rho^2(r)\\ \\beta(r)\\ \\frac{r_*}{r} \\frac{3}{2} \\frac{ c\\ B_*\\ r_*^2 }{ e }\n",
    "$$"
   ]
  },
  {
   "cell_type": "markdown",
   "id": "e47fc353-612d-4f86-8294-66901d608dbc",
   "metadata": {},
   "source": [
    "Alignment with the line of sight is due to curvature and beaming:\n",
    "$$\n",
    "r_c, 1/\\Gamma, ...\n",
    "$$"
   ]
  },
  {
   "cell_type": "code",
   "execution_count": 5,
   "id": "c806810c-5483-400d-8838-09f0acfede72",
   "metadata": {},
   "outputs": [],
   "source": [
    "def P_curv(x, lorentz_factor):\n",
    "    return (2/3) * c.e.gauss**2 * c.c * lorentz_factor**4 / curvature_radius(x)**2\n",
    "\n",
    "def gamma_curv(x):\n",
    "    return np.power(accelerating_power(x)/P_curv(x, 1.), 1/4).si"
   ]
  },
  {
   "cell_type": "code",
   "execution_count": 6,
   "id": "dd0800df-bdb8-4f86-a3d3-5ea28afbf7fd",
   "metadata": {},
   "outputs": [],
   "source": [
    "cgs_Gauss = 1 * u.g**0.5 / (u.cm**0.5 * u.s)\n",
    "\n",
    "def P_sync(x, lorentz_factor, pitch_angle):\n",
    "    return (2/3) * c.e.gauss**4 * (B_Gauss(x)*cgs_Gauss)**2 * (lorentz_factor**2 - 1) * np.sin(pitch_angle)**2 / (c.m_e**2 * c.c**3)\n",
    "\n",
    "def gamma_sync(x):\n",
    "    return np.sqrt(1 + 3 * accelerating_power(x) / P_sync(x, 2., np.pi/2)).si"
   ]
  },
  {
   "cell_type": "code",
   "execution_count": 7,
   "id": "88aa4ae5-de85-4046-9e60-b34b5b851f62",
   "metadata": {},
   "outputs": [],
   "source": [
    "def radiative_losses(x, lorentz_factor, pitch_angle):\n",
    "    return P_sync(x, lorentz_factor, pitch_angle) + P_curv(x, lorentz_factor)\n",
    "\n",
    "def gamma_eq(x, pitch_angle):\n",
    "    b_sync = P_sync(x, np.sqrt(2), pitch_angle)\n",
    "    b_curv = P_curv(x, 1)\n",
    "    return np.sqrt((np.sqrt(b_sync**2 + 4*b_curv*(accelerating_power(x) + b_sync)) - b_sync) / (2*b_curv))"
   ]
  },
  {
   "cell_type": "code",
   "execution_count": 8,
   "id": "03306f31-5483-4e30-b0e8-d021638e5380",
   "metadata": {},
   "outputs": [],
   "source": [
    "def derivatives(x, px, py):\n",
    "    momentum = np.sqrt(px**2 + py**2)\n",
    "    cos_alpha = px/momentum\n",
    "    sin_alpha = py/momentum\n",
    "    pitch_angle = np.arcsin(sin_alpha)\n",
    "\n",
    "    lorentz_factor = np.sqrt(1 + (momentum/c.m_e/c.c)**2)\n",
    "    velocity = c.c * np.sqrt(1 - 1/lorentz_factor**2)\n",
    "    dx_dt = velocity * cos_alpha\n",
    "    \n",
    "    losses = radiative_losses(x, lorentz_factor, pitch_angle) / velocity\n",
    "    dpx_dt = c.e.si * electric_field(x) - losses * cos_alpha\n",
    "    dpy_dt = - losses * sin_alpha\n",
    "    \n",
    "    return dx_dt, dpx_dt, dpy_dt"
   ]
  },
  {
   "cell_type": "markdown",
   "id": "655272f6-22e1-47f7-8fd4-b329fe3283b9",
   "metadata": {},
   "source": [
    "# 2. Particle trajectories"
   ]
  },
  {
   "cell_type": "code",
   "execution_count": 9,
   "id": "942df064-1f43-42c3-b370-244f61ead873",
   "metadata": {},
   "outputs": [],
   "source": [
    "def compute_trajectory(r_in=r_ns,  # initial distance from the neutron star\n",
    "                       alpha_initial=np.pi/2,  # initial pitch angle\n",
    "                       lorentz_initial=1e3,  # initial lorentz factor\n",
    "                       relative_tolerance=1e-2, absolute_tolerance_x=1*u.m, absolute_tolerance_p=c.m_e*c.c):\n",
    "    # Initial conditions\n",
    "    r_initial = r_in\n",
    "    x = 0 << u.m\n",
    "    lorentz_factor = lorentz_initial\n",
    "    momentum = np.sqrt(lorentz_initial**2 - 1) * c.m_e * c.c\n",
    "    px = momentum * np.cos(alpha_initial)\n",
    "    py = momentum * np.sin(alpha_initial)\n",
    "\n",
    "    # Numerical ingtegration\n",
    "\n",
    "    time = 0. << u.s\n",
    "    #final_distance = 1 << u.pc\n",
    "    steps = 0\n",
    "\n",
    "    trajectory = []\n",
    "    #while x < final_distance:\n",
    "    while lorentz_factor < (1 - relative_tolerance) * gamma_curv(x):\n",
    "        steps += 1\n",
    "        trajectory.append([time.si.value, x.si.value, px.si.value, py.si.value])\n",
    "        dx_dt, dpx_dt, dpy_dt = derivatives(x, px, py)\n",
    "        step_x = max(absolute_tolerance_x, np.abs(relative_tolerance*x)) / np.abs(dx_dt)\n",
    "        step_px = max(absolute_tolerance_p, np.abs(relative_tolerance*px)) / np.abs(dpx_dt)\n",
    "        step_py = max(absolute_tolerance_p, np.abs(relative_tolerance*py)) / np.abs(dpy_dt)\n",
    "        lorentz_factor = np.sqrt(1 + (px**2 + py**2)/(c.m_e*c.c)**2)\n",
    "        dgamma_dt = px * dpx_dt / (c.m_e*c.c)**2 / lorentz_factor\n",
    "        step_gamma = np.abs(.5 * (lorentz_factor - gamma_curv(x)) / dgamma_dt)\n",
    "        time_step = np.min([step_x.to_value(u.s), step_px.to_value(u.s), step_py.to_value(u.s), step_gamma.to_value(u.s)]) << u.s\n",
    "        #if True:\n",
    "        if steps % 100 == 1:\n",
    "            print('> t =', time)\n",
    "            print(f'  x, px, py   = {x.si:.3e}, {px.si:.3e}, {py.si:.3e}')\n",
    "            print(f'  derivatives = {dx_dt.si:.3e}, {dpx_dt.si:.3e}, {dpy_dt.si:.3e}, ... {dgamma_dt.si:.3e}')\n",
    "            print(f'  steps = {step_x.si:.3e}, {step_px.si:.3e}, {step_py.si:.3e}')\n",
    "            print(f'  gamma = {gamma_sync(x):.3e}, {gamma_curv(x).si:.3e}, {lorentz_factor.si:.3e}, {(lorentz_factor/dgamma_dt).si:.3e}, {step_gamma.si:.3e}')\n",
    "        time += time_step\n",
    "        x += time_step * dx_dt\n",
    "        px += time_step * dpx_dt\n",
    "        py += time_step * dpy_dt\n",
    "    \n",
    "    print(f'>>> {steps} steps, t = {time.si:.3e}, x, px, py = {x.si:.3e}, {px.si:.3e}, {py.si:.3e},  gamma = {lorentz_factor.si:.3e}')\n",
    "    return np.array(trajectory)"
   ]
  },
  {
   "cell_type": "code",
   "execution_count": 10,
   "id": "8f74459d-4226-4869-a61a-8c7754922cf3",
   "metadata": {},
   "outputs": [
    {
     "name": "stderr",
     "output_type": "stream",
     "text": [
      "/home/yago/.local/lib/python3.8/site-packages/astropy/units/quantity.py:673: RuntimeWarning: divide by zero encountered in divide\n",
      "  result = super().__array_ufunc__(function, method, *arrays, **kwargs)\n"
     ]
    },
    {
     "name": "stdout",
     "output_type": "stream",
     "text": [
      "> t = 0.0 s\n",
      "  x, px, py   = 0.000e+00 m, 1.222e-23 N s, 0.000e+00 N s\n",
      "  derivatives = 1.340e+07 m / s, 4.803e+01 J / m, -0.000e+00 J / m, ... 7.860e+21 1 / s\n",
      "  steps = 7.464e-08 s, 5.686e-24 s, inf s\n",
      "  gamma = 1.381e+00, 2.364e+09, 1.001e+00, 1.274e-22 s, 1.504e-13 s\n",
      "> t = 5.685630103565719e-22 s\n",
      "  x, px, py   = 1.679e-13 m, 2.732e-20 N s, 0.000e+00 N s\n",
      "  derivatives = 2.998e+08 m / s, 4.803e+01 J / m, -0.000e+00 J / m, ... 1.759e+23 1 / s\n",
      "  steps = 3.336e-09 s, 5.688e-24 s, inf s\n",
      "  gamma = 1.381e+00, 2.364e+09, 1.000e+02, 5.689e-22 s, 6.721e-15 s\n",
      "> t = 1.5382906831587541e-21 s\n",
      "  x, px, py   = 4.586e-13 m, 7.390e-20 N s, 0.000e+00 N s\n",
      "  derivatives = 2.998e+08 m / s, 4.803e+01 J / m, -0.000e+00 J / m, ... 1.759e+23 1 / s\n",
      "  steps = 3.336e-09 s, 1.539e-23 s, inf s\n",
      "  gamma = 1.381e+00, 2.364e+09, 2.706e+02, 1.539e-21 s, 6.720e-15 s\n",
      "> t = 4.161223503326846e-21 s\n",
      "  x, px, py   = 1.245e-12 m, 1.999e-19 N s, 0.000e+00 N s\n",
      "  derivatives = 2.998e+08 m / s, 4.803e+01 J / m, -0.000e+00 J / m, ... 1.759e+23 1 / s\n",
      "  steps = 3.336e-09 s, 4.161e-23 s, inf s\n",
      "  gamma = 1.381e+00, 2.364e+09, 7.319e+02, 4.161e-21 s, 6.720e-15 s\n",
      "> t = 1.1255768468961123e-20 s\n",
      "  x, px, py   = 3.372e-12 m, 5.406e-19 N s, 0.000e+00 N s\n",
      "  derivatives = 2.998e+08 m / s, 4.803e+01 J / m, -0.000e+00 J / m, ... 1.759e+23 1 / s\n",
      "  steps = 3.336e-09 s, 1.126e-22 s, inf s\n",
      "  gamma = 1.381e+00, 2.364e+09, 1.980e+03, 1.126e-20 s, 6.720e-15 s\n",
      "> t = 3.0445191805461586e-20 s\n",
      "  x, px, py   = 9.125e-12 m, 1.462e-18 N s, 0.000e+00 N s\n",
      "  derivatives = 2.998e+08 m / s, 4.803e+01 J / m, -0.000e+00 J / m, ... 1.759e+23 1 / s\n",
      "  steps = 3.336e-09 s, 3.045e-22 s, inf s\n",
      "  gamma = 1.381e+00, 2.364e+09, 5.355e+03, 3.045e-20 s, 6.720e-15 s\n",
      "> t = 8.23490094246523e-20 s\n",
      "  x, px, py   = 2.469e-11 m, 3.955e-18 N s, 0.000e+00 N s\n",
      "  derivatives = 2.998e+08 m / s, 4.803e+01 J / m, -0.000e+00 J / m, ... 1.759e+23 1 / s\n",
      "  steps = 3.336e-09 s, 8.235e-22 s, inf s\n",
      "  gamma = 1.381e+00, 2.364e+09, 1.448e+04, 8.235e-20 s, 6.720e-15 s\n",
      "> t = 2.227391731208132e-19 s\n",
      "  x, px, py   = 6.677e-11 m, 1.070e-17 N s, 0.000e+00 N s\n",
      "  derivatives = 2.998e+08 m / s, 4.803e+01 J / m, -0.000e+00 J / m, ... 1.759e+23 1 / s\n",
      "  steps = 3.336e-09 s, 2.227e-21 s, inf s\n",
      "  gamma = 1.381e+00, 2.364e+09, 3.918e+04, 2.227e-19 s, 6.720e-15 s\n",
      "> t = 6.024684294009503e-19 s\n",
      "  x, px, py   = 1.806e-10 m, 2.894e-17 N s, 0.000e+00 N s\n",
      "  derivatives = 2.998e+08 m / s, 4.803e+01 J / m, -0.000e+00 J / m, ... 1.759e+23 1 / s\n",
      "  steps = 3.336e-09 s, 6.025e-21 s, inf s\n",
      "  gamma = 1.381e+00, 2.364e+09, 1.060e+05, 6.025e-19 s, 6.720e-15 s\n",
      "> t = 1.6295653732234817e-18 s\n",
      "  x, px, py   = 4.885e-10 m, 7.827e-17 N s, 0.000e+00 N s\n",
      "  derivatives = 2.998e+08 m / s, 4.803e+01 J / m, -0.000e+00 J / m, ... 1.759e+23 1 / s\n",
      "  steps = 3.336e-09 s, 1.630e-20 s, inf s\n",
      "  gamma = 1.381e+00, 2.364e+09, 2.866e+05, 1.630e-18 s, 6.719e-15 s\n",
      "> t = 4.407671391031729e-18 s\n",
      "  x, px, py   = 1.321e-09 m, 2.117e-16 N s, 0.000e+00 N s\n",
      "  derivatives = 2.998e+08 m / s, 4.803e+01 J / m, -0.000e+00 J / m, ... 1.759e+23 1 / s\n",
      "  steps = 3.336e-09 s, 4.408e-20 s, inf s\n",
      "  gamma = 1.381e+00, 2.364e+09, 7.752e+05, 4.408e-18 s, 6.718e-15 s\n",
      "> t = 1.1921930967603513e-17 s\n",
      "  x, px, py   = 3.574e-09 m, 5.726e-16 N s, 0.000e+00 N s\n",
      "  derivatives = 2.998e+08 m / s, 4.803e+01 J / m, -0.000e+00 J / m, ... 1.759e+23 1 / s\n",
      "  steps = 3.336e-09 s, 1.192e-19 s, inf s\n",
      "  gamma = 1.381e+00, 2.364e+09, 2.097e+06, 1.192e-17 s, 6.714e-15 s\n",
      "> t = 3.224660418840745e-17 s\n",
      "  x, px, py   = 9.667e-09 m, 1.549e-15 N s, 0.000e+00 N s\n",
      "  derivatives = 2.998e+08 m / s, 4.803e+01 J / m, -0.000e+00 J / m, ... 1.759e+23 1 / s\n",
      "  steps = 3.336e-09 s, 3.225e-19 s, inf s\n",
      "  gamma = 1.381e+00, 2.364e+09, 5.672e+06, 3.225e-17 s, 6.704e-15 s\n",
      "> t = 8.722106142424782e-17 s\n",
      "  x, px, py   = 2.615e-08 m, 4.189e-15 N s, 0.000e+00 N s\n",
      "  derivatives = 2.998e+08 m / s, 4.803e+01 J / m, -0.000e+00 J / m, ... 1.759e+23 1 / s\n",
      "  steps = 3.336e-09 s, 8.722e-19 s, inf s\n",
      "  gamma = 1.381e+00, 2.364e+09, 1.534e+07, 8.722e-17 s, 6.677e-15 s\n",
      "> t = 2.3591673790025944e-16 s\n",
      "  x, px, py   = 7.073e-08 m, 1.133e-14 N s, 0.000e+00 N s\n",
      "  derivatives = 2.998e+08 m / s, 4.803e+01 J / m, -0.000e+00 J / m, ... 1.759e+23 1 / s\n",
      "  steps = 3.336e-09 s, 2.359e-18 s, inf s\n",
      "  gamma = 1.381e+00, 2.364e+09, 4.149e+07, 2.359e-16 s, 6.602e-15 s\n",
      "> t = 6.381114793882163e-16 s\n",
      "  x, px, py   = 1.913e-07 m, 3.065e-14 N s, 0.000e+00 N s\n",
      "  derivatives = 2.998e+08 m / s, 4.803e+01 J / m, -0.000e+00 J / m, ... 1.759e+23 1 / s\n",
      "  steps = 3.336e-09 s, 6.381e-18 s, inf s\n",
      "  gamma = 1.381e+00, 2.364e+09, 1.122e+08, 6.381e-16 s, 6.401e-15 s\n",
      "> t = 1.726063059712692e-15 s\n",
      "  x, px, py   = 5.175e-07 m, 8.290e-14 N s, 0.000e+00 N s\n",
      "  derivatives = 2.998e+08 m / s, 4.802e+01 J / m, -0.000e+00 J / m, ... 1.758e+23 1 / s\n",
      "  steps = 3.336e-09 s, 1.726e-17 s, inf s\n",
      "  gamma = 1.381e+00, 2.364e+09, 3.036e+08, 1.726e-15 s, 5.859e-15 s\n",
      "> t = 4.681857554906832e-15 s\n",
      "  x, px, py   = 1.404e-06 m, 2.242e-13 N s, 0.000e+00 N s\n",
      "  derivatives = 2.998e+08 m / s, 4.733e+01 J / m, -0.000e+00 J / m, ... 1.733e+23 1 / s\n",
      "  steps = 3.336e-09 s, 4.737e-17 s, inf s\n",
      "  gamma = 1.381e+00, 2.364e+09, 8.211e+08, 4.737e-15 s, 4.451e-15 s\n",
      "> t = 1.6523929228753237e-14 s\n",
      "  x, px, py   = 4.954e-06 m, 6.065e-13 N s, 0.000e+00 N s\n",
      "  derivatives = 2.998e+08 m / s, 1.061e+01 J / m, -0.000e+00 J / m, ... 3.886e+22 1 / s\n",
      "  steps = 3.336e-09 s, 5.715e-16 s, inf s\n",
      "  gamma = 1.381e+00, 2.364e+09, 2.221e+09, 5.715e-14 s, 1.841e-15 s\n",
      ">>> 1807 steps, t = 2.458e-14 s, x, px, py = 7.370e-06 m, 6.435e-13 N s, 0.000e+00 N s,  gamma = 2.349e+09\n"
     ]
    }
   ],
   "source": [
    "trajectory_00 = compute_trajectory(lorentz_initial=1.001, alpha_initial=0)"
   ]
  },
  {
   "cell_type": "code",
   "execution_count": 11,
   "id": "0709950d-9fd2-411d-b871-2edad09ef5c9",
   "metadata": {},
   "outputs": [
    {
     "name": "stdout",
     "output_type": "stream",
     "text": [
      "> t = 0.0 s\n",
      "  x, px, py   = 0.000e+00 m, 1.672e-35 N s, 2.731e-19 N s\n",
      "  derivatives = 1.836e-08 m / s, 4.803e+01 J / m, -5.294e+07 J / m, ... 1.077e+07 1 / s\n",
      "  steps = 5.448e+07 s, 5.686e-24 s, 5.159e-29 s\n",
      "  gamma = 1.381e+00, 2.364e+09, 1.000e+03, 9.285e-05 s, 1.098e+02 s\n",
      "> t = 8.845443788672737e-27 s\n",
      "  x, px, py   = 3.225e-24 m, 2.916e-25 N s, 9.996e-20 N s\n",
      "  derivatives = 8.747e+02 m / s, 2.734e+01 J / m, -7.093e+06 J / m, ... 2.921e+17 1 / s\n",
      "  steps = 1.143e-03 s, 9.989e-24 s, 1.409e-28 s\n",
      "  gamma = 1.381e+00, 2.364e+09, 3.660e+02, 1.253e-15 s, 4.047e-09 s\n",
      "> t = 3.3010899071895974e-26 s\n",
      "  x, px, py   = 9.012e-23 m, 9.035e-25 N s, 3.659e-20 N s\n",
      "  derivatives = 7.403e+03 m / s, 2.457e+01 J / m, -9.503e+05 J / m, ... 2.221e+18 1 / s\n",
      "  steps = 1.351e-04 s, 1.112e-23 s, 3.850e-28 s\n",
      "  gamma = 1.381e+00, 2.364e+09, 1.340e+02, 6.032e-17 s, 5.321e-10 s\n",
      "> t = 1.688356566982672e-25 s\n",
      "  x, px, py   = 8.897e-21 m, 4.203e-24 N s, 7.948e-21 N s\n",
      "  derivatives = 1.584e+05 m / s, 2.431e+01 J / m, -4.487e+04 J / m, ... 4.703e+19 1 / s\n",
      "  steps = 6.312e-06 s, 1.123e-23 s, 6.086e-27 s\n",
      "  gamma = 1.381e+00, 2.364e+09, 2.912e+01, 6.192e-19 s, 2.513e-11 s\n",
      "> t = 4.1426022833326945e-22 s\n",
      "  x, px, py   = 1.210e-13 m, 1.955e-20 N s, 2.625e-23 N s\n",
      "  derivatives = 2.998e+08 m / s, 4.754e+01 J / m, -6.567e-04 J / m, ... 1.741e+23 1 / s\n",
      "  steps = 3.336e-09 s, 5.744e-24 s, 4.159e-19 s\n",
      "  gamma = 1.381e+00, 2.364e+09, 7.161e+01, 4.114e-22 s, 6.790e-15 s\n",
      "> t = 1.17412222747475e-21 s\n",
      "  x, px, py   = 3.488e-13 m, 5.568e-20 N s, 2.597e-23 N s\n",
      "  derivatives = 2.998e+08 m / s, 4.755e+01 J / m, -2.233e-04 J / m, ... 1.741e+23 1 / s\n",
      "  steps = 3.336e-09 s, 1.171e-23 s, 1.223e-18 s\n",
      "  gamma = 1.381e+00, 2.364e+09, 2.039e+02, 1.171e-21 s, 6.788e-15 s\n",
      "> t = 3.1702251033737655e-21 s\n",
      "  x, px, py   = 9.473e-13 m, 1.506e-19 N s, 2.571e-23 N s\n",
      "  derivatives = 2.998e+08 m / s, 4.756e+01 J / m, -8.012e-05 J / m, ... 1.742e+23 1 / s\n",
      "  steps = 3.336e-09 s, 3.167e-23 s, 3.408e-18 s\n",
      "  gamma = 1.381e+00, 2.364e+09, 5.515e+02, 3.167e-21 s, 6.787e-15 s\n",
      "> t = 8.568263132939494e-21 s\n",
      "  x, px, py   = 2.566e-12 m, 4.074e-19 N s, 2.546e-23 N s\n",
      "  derivatives = 2.998e+08 m / s, 4.757e+01 J / m, -2.877e-05 J / m, ... 1.742e+23 1 / s\n",
      "  steps = 3.336e-09 s, 8.564e-23 s, 9.493e-18 s\n",
      "  gamma = 1.381e+00, 2.364e+09, 1.492e+03, 8.564e-21 s, 6.785e-15 s\n",
      "> t = 2.3166225308632867e-20 s\n",
      "  x, px, py   = 6.942e-12 m, 1.102e-18 N s, 2.522e-23 N s\n",
      "  derivatives = 2.998e+08 m / s, 4.758e+01 J / m, -1.033e-05 J / m, ... 1.742e+23 1 / s\n",
      "  steps = 3.336e-09 s, 2.316e-22 s, 2.643e-17 s\n",
      "  gamma = 1.381e+00, 2.364e+09, 4.035e+03, 2.316e-20 s, 6.784e-15 s\n",
      "> t = 6.264390365300066e-20 s\n",
      "  x, px, py   = 1.878e-11 m, 2.980e-18 N s, 2.498e-23 N s\n",
      "  derivatives = 2.998e+08 m / s, 4.759e+01 J / m, -3.714e-06 J / m, ... 1.743e+23 1 / s\n",
      "  steps = 3.336e-09 s, 6.263e-22 s, 7.352e-17 s\n",
      "  gamma = 1.381e+00, 2.364e+09, 1.091e+04, 6.263e-20 s, 6.783e-15 s\n",
      "> t = 1.6940520933812434e-19 s\n",
      "  x, px, py   = 5.078e-11 m, 8.062e-18 N s, 2.476e-23 N s\n",
      "  derivatives = 2.998e+08 m / s, 4.760e+01 J / m, -1.336e-06 J / m, ... 1.743e+23 1 / s\n",
      "  steps = 3.336e-09 s, 1.694e-21 s, 2.045e-16 s\n",
      "  gamma = 1.381e+00, 2.364e+09, 2.952e+04, 1.694e-19 s, 6.782e-15 s\n",
      "> t = 4.581265538330089e-19 s\n",
      "  x, px, py   = 1.373e-10 m, 2.181e-17 N s, 2.453e-23 N s\n",
      "  derivatives = 2.998e+08 m / s, 4.760e+01 J / m, -4.806e-07 J / m, ... 1.743e+23 1 / s\n",
      "  steps = 3.336e-09 s, 4.580e-21 s, 5.682e-16 s\n",
      "  gamma = 1.381e+00, 2.364e+09, 7.985e+04, 4.580e-19 s, 6.780e-15 s\n",
      "> t = 1.2389385928106625e-18 s\n",
      "  x, px, py   = 3.714e-10 m, 5.898e-17 N s, 2.431e-23 N s\n",
      "  derivatives = 2.998e+08 m / s, 4.761e+01 J / m, -1.730e-07 J / m, ... 1.743e+23 1 / s\n",
      "  steps = 3.336e-09 s, 1.239e-20 s, 1.579e-15 s\n",
      "  gamma = 1.381e+00, 2.364e+09, 2.160e+05, 1.239e-18 s, 6.779e-15 s\n",
      "> t = 3.350562485927168e-18 s\n",
      "  x, px, py   = 1.004e-09 m, 1.595e-16 N s, 2.410e-23 N s\n",
      "  derivatives = 2.998e+08 m / s, 4.762e+01 J / m, -6.231e-08 J / m, ... 1.744e+23 1 / s\n",
      "  steps = 3.336e-09 s, 3.350e-20 s, 4.383e-15 s\n",
      "  gamma = 1.381e+00, 2.364e+09, 5.842e+05, 3.350e-18 s, 6.777e-15 s\n",
      "> t = 9.061257451213375e-18 s\n",
      "  x, px, py   = 2.716e-09 m, 4.315e-16 N s, 2.390e-23 N s\n",
      "  derivatives = 2.998e+08 m / s, 4.763e+01 J / m, -2.245e-08 J / m, ... 1.744e+23 1 / s\n",
      "  steps = 3.336e-09 s, 9.060e-20 s, 1.216e-14 s\n",
      "  gamma = 1.381e+00, 2.364e+09, 1.580e+06, 9.060e-18 s, 6.773e-15 s\n",
      "> t = 2.4505391724470247e-17 s\n",
      "  x, px, py   = 7.347e-09 m, 1.167e-15 N s, 2.370e-23 N s\n",
      "  derivatives = 2.998e+08 m / s, 4.763e+01 J / m, -8.092e-09 J / m, ... 1.744e+23 1 / s\n",
      "  steps = 3.336e-09 s, 2.450e-19 s, 3.375e-14 s\n",
      "  gamma = 1.381e+00, 2.364e+09, 4.274e+06, 2.450e-17 s, 6.764e-15 s\n",
      "> t = 6.62730640756626e-17 s\n",
      "  x, px, py   = 1.987e-08 m, 3.157e-15 N s, 2.350e-23 N s\n",
      "  derivatives = 2.998e+08 m / s, 4.764e+01 J / m, -2.918e-09 J / m, ... 1.744e+23 1 / s\n",
      "  steps = 3.336e-09 s, 6.626e-19 s, 9.358e-14 s\n",
      "  gamma = 1.381e+00, 2.364e+09, 1.156e+07, 6.626e-17 s, 6.742e-15 s\n",
      "> t = 1.792315797587552e-16 s\n",
      "  x, px, py   = 5.373e-08 m, 8.539e-15 N s, 2.331e-23 N s\n",
      "  derivatives = 2.998e+08 m / s, 4.765e+01 J / m, -1.053e-09 J / m, ... 1.745e+23 1 / s\n",
      "  steps = 3.336e-09 s, 1.792e-18 s, 2.594e-13 s\n",
      "  gamma = 1.381e+00, 2.364e+09, 3.127e+07, 1.792e-16 s, 6.685e-15 s\n",
      "> t = 4.847235440187961e-16 s\n",
      "  x, px, py   = 1.453e-07 m, 2.310e-14 N s, 2.312e-23 N s\n",
      "  derivatives = 2.998e+08 m / s, 4.765e+01 J / m, -3.801e-10 J / m, ... 1.745e+23 1 / s\n",
      "  steps = 3.336e-09 s, 4.847e-18 s, 7.186e-13 s\n",
      "  gamma = 1.381e+00, 2.364e+09, 8.457e+07, 4.847e-16 s, 6.532e-15 s\n",
      "> t = 1.3109398878428176e-15 s\n",
      "  x, px, py   = 3.930e-07 m, 6.247e-14 N s, 2.294e-23 N s\n",
      "  derivatives = 2.998e+08 m / s, 4.765e+01 J / m, -1.387e-10 J / m, ... 1.745e+23 1 / s\n",
      "  steps = 3.336e-09 s, 1.311e-17 s, 1.969e-12 s\n",
      "  gamma = 1.381e+00, 2.364e+09, 2.287e+08, 1.311e-15 s, 6.118e-15 s\n",
      "> t = 3.548625979620363e-15 s\n",
      "  x, px, py   = 1.064e-06 m, 1.690e-13 N s, 2.274e-23 N s\n",
      "  derivatives = 2.998e+08 m / s, 4.744e+01 J / m, -7.971e-11 J / m, ... 1.737e+23 1 / s\n",
      "  steps = 3.336e-09 s, 3.562e-17 s, 3.426e-12 s\n",
      "  gamma = 1.381e+00, 2.364e+09, 6.187e+08, 3.562e-15 s, 5.023e-15 s\n",
      "> t = 1.0140890960522353e-14 s\n",
      "  x, px, py   = 3.040e-06 m, 4.570e-13 N s, 2.102e-23 N s\n",
      "  derivatives = 2.998e+08 m / s, 3.565e+01 J / m, -5.693e-10 J / m, ... 1.306e+23 1 / s\n",
      "  steps = 3.336e-09 s, 1.282e-16 s, 4.797e-13 s\n",
      "  gamma = 1.381e+00, 2.364e+09, 1.673e+09, 1.282e-14 s, 2.644e-15 s\n",
      ">>> 2135 steps, t = 2.423e-14 s, x, px, py = 7.264e-06 m, 6.428e-13 N s, 9.021e-24 N s,  gamma = 2.344e+09\n"
     ]
    }
   ],
   "source": [
    "trajectory_390 = compute_trajectory(lorentz_initial=1000, alpha_initial=np.pi/2)"
   ]
  },
  {
   "cell_type": "code",
   "execution_count": 17,
   "id": "0db79a52-6aca-4ba9-935c-404bd1ae1028",
   "metadata": {},
   "outputs": [],
   "source": [
    "#trajectory_310 = compute_trajectory(lorentz_initial=1000, alpha_initial=10*u.deg)"
   ]
  },
  {
   "cell_type": "code",
   "execution_count": 25,
   "id": "e5761f59-5e6f-4905-8426-7bb7c5b39f45",
   "metadata": {},
   "outputs": [
    {
     "name": "stdout",
     "output_type": "stream",
     "text": [
      "> t = 0.0 s\n",
      "  x, px, py   = 0.000e+00 m, 1.672e-35 N s, 2.731e-19 N s\n",
      "  derivatives = 1.836e-08 m / s, 4.422e-07 J / m, -4.487e-09 J / m, ... 9.915e-02 1 / s\n",
      "  steps = 5.448e+07 s, 6.176e-16 s, 6.087e-13 s\n",
      "  gamma = 9.928e+03, 5.058e+08, 1.000e+03, 1.009e+04 s, 2.551e+09 s\n",
      "> t = 6.179006315357985e-14 s\n",
      "  x, px, py   = 9.155e-07 m, 2.731e-20 N s, 2.728e-19 N s\n",
      "  derivatives = 2.986e+07 m / s, 4.417e-07 J / m, -4.455e-09 J / m, ... 1.611e+14 1 / s\n",
      "  steps = 3.349e-08 s, 6.182e-16 s, 6.123e-13 s\n",
      "  gamma = 9.928e+03, 5.058e+08, 1.004e+03, 6.231e-12 s, 1.570e-06 s\n",
      "> t = 1.6727084347412058e-13 s\n",
      "  x, px, py   = 6.640e-06 m, 7.387e-20 N s, 2.724e-19 N s\n",
      "  derivatives = 7.847e+07 m / s, 4.410e-07 J / m, -4.307e-09 J / m, ... 4.227e+14 1 / s\n",
      "  steps = 1.274e-08 s, 1.675e-15 s, 6.324e-13 s\n",
      "  gamma = 9.928e+03, 5.058e+08, 1.033e+03, 2.444e-12 s, 5.983e-07 s\n",
      "> t = 4.533204924713236e-13 s\n",
      "  x, px, py   = 4.442e-05 m, 1.998e-19 N s, 2.712e-19 N s\n",
      "  derivatives = 1.778e+08 m / s, 4.396e-07 J / m, -3.563e-09 J / m, ... 9.546e+14 1 / s\n",
      "  steps = 5.624e-09 s, 4.545e-15 s, 7.612e-13 s\n",
      "  gamma = 9.928e+03, 5.058e+08, 1.234e+03, 1.292e-12 s, 2.649e-07 s\n",
      "> t = 1.229660553227892e-12 s\n",
      "  x, px, py   = 2.273e-04 m, 5.404e-19 N s, 2.692e-19 N s\n",
      "  derivatives = 2.683e+08 m / s, 4.383e-07 J / m, -1.943e-09 J / m, ... 1.437e+15 1 / s\n",
      "  steps = 3.726e-09 s, 1.233e-14 s, 1.385e-12 s\n",
      "  gamma = 9.928e+03, 5.058e+08, 2.211e+03, 1.539e-12 s, 1.760e-07 s\n",
      "> t = 3.33278740484615e-12 s\n",
      "  x, px, py   = 8.313e-04 m, 1.462e-18 N s, 2.666e-19 N s\n",
      "  derivatives = 2.949e+08 m / s, 4.380e-07 J / m, -7.676e-10 J / m, ... 1.578e+15 1 / s\n",
      "  steps = 3.391e-09 s, 3.337e-14 s, 3.474e-12 s\n",
      "  gamma = 9.928e+03, 5.058e+08, 5.441e+03, 3.448e-12 s, 1.603e-07 s\n",
      "> t = 9.022323215820215e-12 s\n",
      "  x, px, py   = 2.527e-03 m, 3.954e-18 N s, 2.641e-19 N s\n",
      "  derivatives = 2.991e+08 m / s, 4.380e-07 J / m, -2.797e-10 J / m, ... 1.600e+15 1 / s\n",
      "  steps = 3.343e-09 s, 9.027e-14 s, 9.443e-12 s\n",
      "  gamma = 9.928e+03, 5.058e+08, 1.451e+04, 9.067e-12 s, 1.580e-07 s\n",
      "> t = 2.4409435815109795e-11 s\n",
      "  x, px, py   = 7.136e-03 m, 1.069e-17 N s, 2.616e-19 N s\n",
      "  derivatives = 2.997e+08 m / s, 4.381e-07 J / m, -1.007e-10 J / m, ... 1.604e+15 1 / s\n",
      "  steps = 3.337e-09 s, 2.441e-13 s, 2.598e-11 s\n",
      "  gamma = 9.928e+03, 5.058e+08, 3.917e+04, 2.443e-11 s, 1.577e-07 s\n",
      "> t = 6.60216638235224e-11 s\n",
      "  x, px, py   = 1.961e-02 m, 2.892e-17 N s, 2.592e-19 N s\n",
      "  derivatives = 2.998e+08 m / s, 4.381e-07 J / m, -3.621e-11 J / m, ... 1.604e+15 1 / s\n",
      "  steps = 3.336e-09 s, 6.602e-13 s, 7.158e-11 s\n",
      "  gamma = 9.928e+03, 5.058e+08, 1.059e+05, 6.602e-11 s, 1.576e-07 s\n",
      "> t = 1.785559962091661e-10 s\n",
      "  x, px, py   = 5.335e-02 m, 7.824e-17 N s, 2.568e-19 N s\n",
      "  derivatives = 2.998e+08 m / s, 4.382e-07 J / m, -1.303e-11 J / m, ... 1.605e+15 1 / s\n",
      "  steps = 3.336e-09 s, 1.785e-12 s, 1.972e-10 s\n",
      "  gamma = 9.928e+03, 5.058e+08, 2.865e+05, 1.785e-10 s, 1.575e-07 s\n",
      "> t = 4.828906757010407e-10 s\n",
      "  x, px, py   = 1.446e-01 m, 2.116e-16 N s, 2.545e-19 N s\n",
      "  derivatives = 2.998e+08 m / s, 4.383e-07 J / m, -4.688e-12 J / m, ... 1.605e+15 1 / s\n",
      "  steps = 3.336e-09 s, 4.828e-12 s, 5.429e-10 s\n",
      "  gamma = 9.928e+03, 5.058e+08, 7.749e+05, 4.828e-10 s, 1.573e-07 s\n",
      "> t = 1.3059295655846207e-09 s\n",
      "  x, px, py   = 3.913e-01 m, 5.724e-16 N s, 2.523e-19 N s\n",
      "  derivatives = 2.998e+08 m / s, 4.384e-07 J / m, -1.688e-12 J / m, ... 1.605e+15 1 / s\n",
      "  steps = 3.336e-09 s, 1.306e-11 s, 1.495e-09 s\n",
      "  gamma = 9.928e+03, 5.058e+08, 2.096e+06, 1.306e-09 s, 1.569e-07 s\n",
      "> t = 3.53175825129752e-09 s\n",
      "  x, px, py   = 1.059e+00 m, 1.548e-15 N s, 2.501e-19 N s\n",
      "  derivatives = 2.998e+08 m / s, 4.384e-07 J / m, -6.081e-13 J / m, ... 1.605e+15 1 / s\n",
      "  steps = 3.336e-09 s, 3.531e-11 s, 4.113e-09 s\n",
      "  gamma = 9.928e+03, 5.058e+08, 5.669e+06, 3.531e-09 s, 1.558e-07 s\n",
      "> t = 9.551331457672857e-09 s\n",
      "  x, px, py   = 2.863e+00 m, 4.188e-15 N s, 2.480e-19 N s\n",
      "  derivatives = 2.998e+08 m / s, 4.385e-07 J / m, -2.192e-13 J / m, ... 1.606e+15 1 / s\n",
      "  steps = 3.336e-09 s, 9.550e-11 s, 1.132e-08 s\n",
      "  gamma = 9.928e+03, 5.058e+08, 1.533e+07, 9.550e-09 s, 1.527e-07 s\n",
      "> t = 2.5831100936783414e-08 s\n",
      "  x, px, py   = 7.744e+00 m, 1.133e-14 N s, 2.459e-19 N s\n",
      "  derivatives = 2.998e+08 m / s, 4.385e-07 J / m, -7.944e-14 J / m, ... 1.606e+15 1 / s\n",
      "  steps = 3.336e-09 s, 2.583e-10 s, 3.096e-08 s\n",
      "  gamma = 9.928e+03, 5.058e+08, 4.147e+07, 2.583e-08 s, 1.446e-07 s\n",
      "> t = 6.989151325350753e-08 s\n",
      "  x, px, py   = 2.095e+01 m, 3.064e-14 N s, 2.438e-19 N s\n",
      "  derivatives = 2.998e+08 m / s, 4.375e-07 J / m, -3.696e-14 J / m, ... 1.602e+15 1 / s\n",
      "  steps = 3.336e-09 s, 7.002e-10 s, 6.596e-08 s\n",
      "  gamma = 9.928e+03, 5.058e+08, 1.122e+08, 7.002e-08 s, 1.228e-07 s\n",
      "> t = 1.9411979584294807e-07 s\n",
      "  x, px, py   = 5.820e+01 m, 8.286e-14 N s, 2.337e-19 N s\n",
      "  derivatives = 2.998e+08 m / s, 3.816e-07 J / m, -1.708e-13 J / m, ... 1.397e+15 1 / s\n",
      "  steps = 3.336e-09 s, 2.171e-09 s, 1.368e-08 s\n",
      "  gamma = 9.928e+03, 5.058e+08, 3.034e+08, 2.171e-07 s, 7.241e-08 s\n",
      "> t = 5.20153907290482e-07 s\n",
      "  x, px, py   = 1.559e+02 m, 1.364e-13 N s, 1.130e-19 N s\n",
      "  derivatives = 2.998e+08 m / s, 2.080e-08 J / m, -3.489e-13 J / m, ... 7.616e+13 1 / s\n",
      "  steps = 5.202e-09 s, 6.559e-08 s, 3.238e-09 s\n",
      "  gamma = 9.928e+03, 5.058e+08, 4.995e+08, 6.559e-06 s, 4.125e-08 s\n",
      ">>> 1707 steps, t = 5.427e-07 s, x, px, py = 1.627e+02 m, 1.368e-13 N s, 1.053e-19 N s,  gamma = 5.009e+08\n"
     ]
    }
   ],
   "source": [
    "period = 1*u.s\n",
    "r_lc = c.c * period /2/np.pi\n",
    "trajectory_lc = compute_trajectory(r_in=.1*r_lc)"
   ]
  },
  {
   "cell_type": "code",
   "execution_count": 37,
   "id": "e74ba2be-d10a-4e15-b604-0c5ad09f5937",
   "metadata": {},
   "outputs": [
    {
     "data": {
      "image/png": "[encoded data removed]",
      "text/plain": [
       "<Figure size 864x864 with 4 Axes>"
      ]
     },
     "metadata": {
      "needs_background": "light"
     },
     "output_type": "display_data"
    }
   ],
   "source": [
    "fig, axes = plt.subplots(ncols=1, nrows=4, figsize=(12, 12), squeeze=False, sharex='col', gridspec_kw={'hspace':0} )\n",
    "\n",
    "def plot_trajectory(trajectory, axes, color, linestyle):\n",
    "    style = f'{color}{linestyle}'\n",
    "    t = trajectory[:, 0] << u.s\n",
    "    x = trajectory[:, 1] << u.m\n",
    "    px = trajectory[:, 2] << u.kg*u.m/u.s\n",
    "    py = trajectory[:, 3] << u.kg*u.m/u.s\n",
    "    lorentz_factor = np.sqrt(1 + (px**2 + py**2)/(c.m_e*c.c)**2)\n",
    "    pitch_angle = np.arcsin(py/np.sqrt(px**2 + py**2))\n",
    "\n",
    "    axes[0, 0].plot(t.si, x.si, style, marker='+')\n",
    "    axes[1, 0].plot(t.si, lorentz_factor, style)\n",
    "    axes[2, 0].plot(t.si, pitch_angle.to(u.deg), style)\n",
    "    axes[3, 0].plot(t.si, accelerating_power(x).to(u.erg/u.s), f'k{linestyle}', label=r'$E_{||}$ acceleration')\n",
    "    axes[3, 0].plot(t.si, P_curv(x, lorentz_factor).to(u.erg/u.s), f'b{linestyle}', label='curvature')\n",
    "    axes[3, 0].plot(t.si, P_sync(x, lorentz_factor, pitch_angle).to(u.erg/u.s), f'r{linestyle}', label='synchrotron')\n",
    "\n",
    "#fig.suptitle(f'$r_{{\\\\rm in}}$ = {r_initial.to(u.km)}, $\\\\Gamma_{{\\\\rm in}}$ = {lorentz_factor[0]} $\\\\alpha_{{\\\\rm in}}$ = {pitch_angle[0].to(u.deg)}')\n",
    "\n",
    "plot_trajectory(trajectory_00, axes, 'k', ':')\n",
    "plot_trajectory(trajectory_390, axes, 'k', '-')\n",
    "#plot_trajectory(trajectory_310, axes, 'k', '--')\n",
    "plot_trajectory(trajectory_lc, axes, 'k', '--')\n",
    "\n",
    "ax = axes[0, 0]\n",
    "ax.set_ylabel(r'distance travelled $x$ [m]')\n",
    "ax.set_yscale('log')\n",
    "\n",
    "ax = axes[1, 0]\n",
    "ax.set_ylabel(r'Lorentz factor $\\Gamma$')\n",
    "ax.set_yscale('log')\n",
    "#ax.plot(t.si, gamma_curv(x), 'b--', label='curvature')\n",
    "#ax.plot(t.si, gamma_sync(x), 'r--', label='synchrotron')\n",
    "#ax.legend()\n",
    "\n",
    "ax = axes[2, 0]\n",
    "ax.set_ylabel(r'pitch angle $\\alpha$ [$^\\circ$]')\n",
    "ax.set_yscale('log')\n",
    "\n",
    "ax = axes[3, 0]\n",
    "ax.set_ylabel(r'luminosity $L$ [erg s$^{-1}$]')\n",
    "ax.set_yscale('log')\n",
    "#ax.set_ylim(3e10, 3e16)\n",
    "ax.plot(trajectory_390[:, 0], accelerating_power(trajectory_390[:, 1]*u.m).to(u.erg/u.s), 'k:', label=r'$E_{||}$ acceleration')\n",
    "ax.legend()\n",
    "\n",
    "ax = axes[-1, 0]\n",
    "ax.set_xlabel(r'time ellapsed $t$ [s]')\n",
    "ax.set_xscale('log')\n",
    "\n"
   ]
  },
  {
   "cell_type": "code",
   "execution_count": 31,
   "id": "328aacf9-ebe6-4b69-bf09-df5cb8c9df67",
   "metadata": {},
   "outputs": [
    {
     "data": {
      "text/latex": [
       "$1.34406 \\times 10^{-14} \\; \\mathrm{s}$"
      ],
      "text/plain": [
       "<Quantity 1.34405996e-14 s>"
      ]
     },
     "execution_count": 31,
     "metadata": {},
     "output_type": "execute_result"
    }
   ],
   "source": [
    "r_initial = 10 * u.km\n",
    "(gamma_curv(0)*c.m_e*c.c**2/accelerating_power(0)).si"
   ]
  },
  {
   "cell_type": "code",
   "execution_count": 24,
   "id": "65df0d6d-fa92-4307-8ee7-643ef074bc4e",
   "metadata": {},
   "outputs": [
    {
     "data": {
      "text/latex": [
       "$3.1237836 \\times 10^{-7} \\; \\mathrm{s}$"
      ],
      "text/plain": [
       "<Quantity 3.12378358e-07 s>"
      ]
     },
     "execution_count": 24,
     "metadata": {},
     "output_type": "execute_result"
    }
   ],
   "source": [
    "r_initial = 0.1 * r_lc\n",
    "(gamma_curv(0)*c.m_e*c.c**2/accelerating_power(0)).si"
   ]
  },
  {
   "cell_type": "code",
   "execution_count": null,
   "id": "a6eb94ef-e8d3-452b-9185-c368f72942e4",
   "metadata": {},
   "outputs": [],
   "source": [
    "B_Gauss(0).si, gamma_sync(0), gamma_curv(0)"
   ]
  },
  {
   "cell_type": "code",
   "execution_count": null,
   "id": "68c8e575-4920-409c-9052-500eb8bb2c57",
   "metadata": {},
   "outputs": [],
   "source": [
    "E_c = 1.5 * c.h * c.c * (1e8)**3 / (c.c * u.s)\n",
    "E_c.to(u.eV), (E_c/c.h).to(u.GHz)"
   ]
  },
  {
   "cell_type": "code",
   "execution_count": null,
   "id": "c7054bfe-1a15-41f8-852e-4ee6ab8e7416",
   "metadata": {},
   "outputs": [],
   "source": [
    "((u.pc/u.km).si**-.25 * 1e8).si"
   ]
  },
  {
   "cell_type": "code",
   "execution_count": 20,
   "id": "7faf4afb-fef3-4a3a-a807-60563ba4da08",
   "metadata": {},
   "outputs": [
    {
     "data": {
      "text/plain": [
       "(array([0.00000000e+00, 0.00000000e+00, 1.67220816e-35, 2.73092317e-19]),\n",
       " array([0.00000000e+00, 0.00000000e+00, 1.67220816e-35, 2.73092317e-19]))"
      ]
     },
     "execution_count": 20,
     "metadata": {},
     "output_type": "execute_result"
    }
   ],
   "source": [
    "trajectory_390[0, :], trajectory_lc[0, :]"
   ]
  },
  {
   "cell_type": "code",
   "execution_count": null,
   "id": "91ae8c55-b321-4f78-af4c-cedb340469c5",
   "metadata": {},
   "outputs": [],
   "source": []
  }
 ],
 "metadata": {
  "kernelspec": {
   "display_name": "Python 3 (ipykernel)",
   "language": "python",
   "name": "python3"
  },
  "language_info": {
   "codemirror_mode": {
    "name": "ipython",
    "version": 3
   },
   "file_extension": ".py",
   "mimetype": "text/x-python",
   "name": "python",
   "nbconvert_exporter": "python",
   "pygments_lexer": "ipython3",
   "version": "3.8.10"
  }
 },
 "nbformat": 4,
 "nbformat_minor": 5
}
